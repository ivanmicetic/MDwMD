{
 "cells": [
  {
   "cell_type": "code",
   "execution_count": 32,
   "metadata": {},
   "outputs": [],
   "source": [
    "import pandas as pd\n",
    "\n",
    "# Load the dataset with semicolon as separator and specified encoding\n",
    "file_path = 'entries_with_word_diffusion.csv'\n",
    "df = pd.read_csv(file_path, sep=';', encoding='ISO-8859-1')\n",
    "\n",
    "# Change NaN values in Reference PubMed ID to 90000000\n",
    "df['Reference PubMed ID'] = df['Reference PubMed ID'].fillna(90000000)\n",
    "# Format the Reference PubMed ID to int\n",
    "df['Reference PubMed ID'] = df['Reference PubMed ID'].astype(int)\n",
    "\n",
    "# Add a third column named link that points to the specified URL with the PubMed ID\n",
    "df['link'] = 'https://sci-hub.et-fine.com/https://pubmed.ncbi.nlm.nih.gov/' + df['Reference PubMed ID'].astype(str)\n",
    "\n",
    "# Sort the dataframe by 'Reference PubMed ID' in ascending order\n",
    "df_sorted = df.sort_values(by='Reference PubMed ID')\n",
    "\n",
    "# Save the columns 'Reference PubMed ID', 'link', and 'Reference' to a new file, in order following the Reference PubMed ID\n",
    "df_sorted[['Reference PubMed ID', 'link', 'Reference']].to_csv('references.tsv', index=False, sep='\\t')\n"
   ]
  }
 ],
 "metadata": {
  "kernelspec": {
   "display_name": "Python 3",
   "language": "python",
   "name": "python3"
  },
  "language_info": {
   "codemirror_mode": {
    "name": "ipython",
    "version": 3
   },
   "file_extension": ".py",
   "mimetype": "text/x-python",
   "name": "python",
   "nbconvert_exporter": "python",
   "pygments_lexer": "ipython3",
   "version": "3.9.2"
  }
 },
 "nbformat": 4,
 "nbformat_minor": 2
}
