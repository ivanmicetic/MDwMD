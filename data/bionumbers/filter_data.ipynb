{
 "cells": [
  {
   "cell_type": "code",
   "execution_count": 18,
   "metadata": {},
   "outputs": [
    {
     "name": "stdout",
     "output_type": "stream",
     "text": [
      "Diffusion coefficient in Keywords: 75\n",
      "Diffusion in Keywords: 107\n",
      "Diffusion coefficient in Comments: 94\n",
      "Diffusion in Comments (excluding 'diffusion coefficient'): 120\n"
     ]
    }
   ],
   "source": [
    "import pandas as pd\n",
    "\n",
    "\n",
    "#SOMETHING IS WRONG WHILE EXCLUDING THE DATA\n",
    "\n",
    "\n",
    "# Load the dataset with semicolon as separator and specified encoding\n",
    "file_path = 'bionumbers_2024-02-08.csv'\n",
    "df = pd.read_csv(file_path, sep=';', encoding='ISO-8859-1')\n",
    "\n",
    "# Case 1: \"diffusion coefficient\" in \"Keywords\"\n",
    "diffusion_coef_keywords_df = df[df['Keywords'].str.contains('diffusion coefficient', case=False, na=False)]\n",
    "print('Diffusion coefficient in Keywords:', diffusion_coef_keywords_df.shape[0])\n",
    "diffusion_coef_keywords_df.to_csv('diffusion_coefficient_keywords.csv', sep=';')\n",
    "\n",
    "# Case 2: \"diffusion\" (excluding \"diffusion coefficient\") in \"Keywords\"\n",
    "diffusion_keywords_df = df[df['Keywords'].str.contains('diffusion', case=False, na=False) & ~df['Keywords'].str.contains('diffusion coefficient', case=False, na=False)]\n",
    "print('Diffusion in Keywords:', diffusion_keywords_df.shape[0])\n",
    "diffusion_keywords_df.to_csv('diffusion_keywords.csv', sep=';')\n",
    "\n",
    "# Case 3: Exclude 'diffusion' in \"Keywords\", \"diffusion coefficient\" in \"Comments\"\n",
    "excluded_based_on_keywords_df = df[~df['Keywords'].str.contains('diffusion', case=False, na=False)]\n",
    "diffusion_coef_comments_df = excluded_based_on_keywords_df[excluded_based_on_keywords_df['Comments'].str.contains('diffusion coefficient', case=False, na=False)]\n",
    "print('Diffusion coefficient in Comments:', diffusion_coef_comments_df.shape[0])\n",
    "diffusion_coef_comments_df.to_csv('diffusion_coefficient_comments.csv', sep=';')\n",
    "\n",
    "# Case 4: Exclude 'diffusion' in \"Keywords\", exclude 'diffusion coefficient' in \"Comments\", look for 'diffusion' in \"Comments\"\n",
    "excluded_diffusion_keywords_and_coef_comments_df = df[~df['Keywords'].str.contains('diffusion', case=False, na=False) & ~df['Comments'].str.contains('diffusion coefficient', case=False, na=False)]\n",
    "diffusion_comments_df = excluded_diffusion_keywords_and_coef_comments_df[excluded_diffusion_keywords_and_coef_comments_df['Comments'].str.contains('diffusion', case=False, na=False)]\n",
    "print('Diffusion in Comments (excluding \\'diffusion coefficient\\'):', diffusion_comments_df.shape[0])\n",
    "diffusion_comments_df.to_csv('diffusion_comments.csv', sep=';')\n"
   ]
  }
 ],
 "metadata": {
  "kernelspec": {
   "display_name": "Python 3",
   "language": "python",
   "name": "python3"
  },
  "language_info": {
   "codemirror_mode": {
    "name": "ipython",
    "version": 3
   },
   "file_extension": ".py",
   "mimetype": "text/x-python",
   "name": "python",
   "nbconvert_exporter": "python",
   "pygments_lexer": "ipython3",
   "version": "3.9.2"
  }
 },
 "nbformat": 4,
 "nbformat_minor": 2
}
