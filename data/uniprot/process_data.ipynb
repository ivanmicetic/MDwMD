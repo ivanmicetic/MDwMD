{
 "cells": [
  {
   "cell_type": "markdown",
   "id": "80f994b5",
   "metadata": {},
   "source": [
    "# Protein Data Analysis\n",
    "This notebook analyzes protein data, focusing on properties like mass and presence of PDB structures."
   ]
  },
  {
   "cell_type": "markdown",
   "id": "2e2f1a78",
   "metadata": {},
   "source": [
    "## Section 1: Data Loading and Initial Exploration"
   ]
  },
  {
   "cell_type": "code",
   "execution_count": 2,
   "id": "88487a58",
   "metadata": {},
   "outputs": [
    {
     "name": "stdout",
     "output_type": "stream",
     "text": [
      "        Entry   Entry Name                                      Protein names  \\\n",
      "0  A0A009IHW8  ABTIR_ACIB9  2' cyclic ADP-D-ribose synthase AbTIR (2'cADPR...   \n",
      "1  A0A023I7E1   ENG1_RHIMI  Glucan endo-1,3-beta-D-glucosidase 1 (Endo-1,3...   \n",
      "2  A0A024SC78  CUTI1_HYPJR                             Cutinase (EC 3.1.1.74)   \n",
      "\n",
      "                                            Organism  Organism (ID)  \\\n",
      "0           Acinetobacter baumannii (strain 1295743)        1310613   \n",
      "1                                  Rhizomucor miehei           4839   \n",
      "2  Hypocrea jecorina (strain ATCC 56765 / BCRC 32...        1344414   \n",
      "\n",
      "                                                  3D                   PDB  \\\n",
      "0  Electron microscopy (1); X-ray crystallography...       7UWG;7UXU;8G83;   \n",
      "1                          X-ray crystallography (4)  4K35;4K3A;5XBZ;5XC2;   \n",
      "2                          X-ray crystallography (3)       4PSC;4PSD;4PSE;   \n",
      "\n",
      "    Mass  Length  \n",
      "0  30922     269  \n",
      "1  89495     796  \n",
      "2  25924     248  \n",
      "        Entry  Organism (ID)  Length\n",
      "0  A0A009IHW8        1310613     269\n",
      "1  A0A023I7E1           4839     796\n",
      "2  A0A024SC78        1344414     248\n"
     ]
    }
   ],
   "source": [
    "\n",
    "import pandas as pd\n",
    "import matplotlib.pyplot as plt\n",
    "\n",
    "# Load the dataset\n",
    "file_path = 'uniprotkb_NOT_cc_scl_term_SL_0162_AND_r_2024_02_08.tsv'\n",
    "protein_df = pd.read_csv(file_path, sep='\\t')\n",
    "\n",
    "# Display the first few rows to understand the dataset\n",
    "print(protein_df.head(3))\n",
    "\n",
    "# Show specific columns to get a sense of the data\n",
    "print(protein_df[['Entry', 'Organism (ID)', 'Length']].head(3))\n"
   ]
  },
  {
   "cell_type": "markdown",
   "id": "13e05d97",
   "metadata": {},
   "source": [
    "## Section 2: Data Analysis"
   ]
  },
  {
   "cell_type": "code",
   "execution_count": 3,
   "id": "85df3445",
   "metadata": {},
   "outputs": [
    {
     "name": "stdout",
     "output_type": "stream",
     "text": [
      "Total count: 453600\n",
      "Proteins with PDB: 26253\n",
      "Proteins with PDB and mass < 50kDa: 18697\n"
     ]
    }
   ],
   "source": [
    "\n",
    "# Count the total number of proteins\n",
    "total_proteins = protein_df.shape[0]\n",
    "print('Total count:', total_proteins)\n",
    "\n",
    "# Filter proteins with a PDB structure\n",
    "proteins_with_pdb = protein_df[protein_df['PDB'].notna()]\n",
    "print('Proteins with PDB:', proteins_with_pdb.shape[0])\n",
    "\n",
    "# Further filter proteins by mass range (1000 to 50000 Da)\n",
    "filtered_proteins = proteins_with_pdb[(proteins_with_pdb['Mass'] > 1000) & (proteins_with_pdb['Mass'] < 50000)]\n",
    "print('Proteins with PDB and mass < 50kDa:', filtered_proteins.shape[0])\n"
   ]
  },
  {
   "cell_type": "markdown",
   "id": "56395f3d",
   "metadata": {},
   "source": [
    "## Section 3: Data Visualization"
   ]
  },
  {
   "cell_type": "code",
   "execution_count": 4,
   "id": "feaa9d24",
   "metadata": {},
   "outputs": [
    {
     "data": {
      "image/png": "[encoded data removed]",
      "text/plain": [
       "<Figure size 640x480 with 1 Axes>"
      ]
     },
     "metadata": {},
     "output_type": "display_data"
    }
   ],
   "source": [
    "\n",
    "import pandas as pd\n",
    "import matplotlib.pyplot as plt\n",
    "\n",
    "# Calculate mass in kDa\n",
    "proteins_with_pdb_in_kDa = proteins_with_pdb.copy()\n",
    "proteins_with_pdb_in_kDa['Mass_kDa'] = proteins_with_pdb['Mass'] / 1000\n",
    "\n",
    "# Plot the mass distribution of proteins with a PDB structure\n",
    "proteins_with_pdb_in_kDa['Mass_kDa'].plot(kind='hist', bins=100, logy=True, title='Protein Mass Distribution (PDB Present)')\n",
    "plt.xlabel('Mass (kDa)')\n",
    "plt.ylabel('Frequency')\n",
    "plt.xlim(0, 1000)\n",
    "plt.show()\n"
   ]
  },
  {
   "cell_type": "markdown",
   "metadata": {},
   "source": [
    "## Section 4: Get a list of PDB codes"
   ]
  },
  {
   "cell_type": "code",
   "execution_count": null,
   "metadata": {},
   "outputs": [],
   "source": [
    "# Clean up 'PDB' column by removing trailing semicolons and replacing semicolons with commas\n",
    "df_cleaned = proteins_with_pdb.copy()\n",
    "df_cleaned['PDB'] = df_cleaned['PDB'].apply(lambda x: x.strip(';').replace(';', ','))\n",
    "\n",
    "# Merge all PDB entries into a single comma-separated string and split into a list\n",
    "pdb_comma_separated = ','.join(df_cleaned['PDB'])\n",
    "pdb_list = pdb_comma_separated.split(',')\n",
    "pdb_list = list(set(pdb_list))\n",
    "\n",
    "# Print the total number of unique PDB entries\n",
    "print('Total number of PDBs:', len(pdb_list))\n",
    "print('Peek: ',pdb_list[:10])\n",
    "\n",
    "#Find if any antry has a PDB repeated and write the entries and the repeated PDB\n",
    "count_simple = 0\n",
    "count_multiple = 0\n",
    "\n",
    "for pdb in pdb_list:\n",
    "    entry = df_cleaned[df_cleaned['PDB'].str.contains(pdb, na=False)]['Entry'].values\n",
    "    if len(entry) > 1:\n",
    "        count_multiple += 1\n",
    "    else:\n",
    "        count_simple += 1\n",
    "    print(count_simple, count_multiple) #Final: 95078 17478 (total 112556)"
   ]
  },
  {
   "cell_type": "markdown",
   "metadata": {},
   "source": [
    "## Section 5: Download information from PDB\n",
    "\n",
    "<strong> Caution! This takes a lot of time and multiple re-runs, and some file editing to restart the block. </strong> "
   ]
  },
  {
   "cell_type": "code",
   "execution_count": null,
   "metadata": {},
   "outputs": [],
   "source": [
    "# Retrieving and Recording PDB Entry Information\n",
    "import requests\n",
    "import datetime\n",
    "import os\n",
    "import pandas as pd\n",
    "\n",
    "# Function to read already processed PDB codes from \"already.tsv\"\n",
    "def read_already_processed(file_path):\n",
    "    if os.path.exists(file_path):\n",
    "        return set(pd.read_csv(file_path, sep='\\t')['PDB'])\n",
    "    else:\n",
    "        return set()\n",
    "\n",
    "# File with already processed PDBs\n",
    "already_file = 'merged_pdb_info_2024-02-10_00-58-55.tsv'\n",
    "already_processed = read_already_processed(already_file)\n",
    "\n",
    "# Current time for file naming, to ensure the file name is unique\n",
    "now = datetime.datetime.now()\n",
    "file_name = f'pdb_info_{now.strftime(\"%Y-%m-%d_%H-%M-%S\")}.tsv'\n",
    "\n",
    "# Function to fetch data for a single PDB entry\n",
    "def fetch_pdb_data(pdb):\n",
    "    url = f'https://data.rcsb.org/rest/v1/core/entry/{pdb}'\n",
    "    response = requests.get(url)\n",
    "    if response.status_code == 200:\n",
    "        print(f'{pdb} ... OK')\n",
    "        return response.json()\n",
    "    else:\n",
    "        print(f'Warning: PDB {pdb} was not found')\n",
    "        return None\n",
    "\n",
    "# Function to extract and format the required information from the response\n",
    "def extract_info(json_data, pdb):\n",
    "    if json_data:\n",
    "        pubmed_id = json_data.get('rcsb_entry_container_identifiers', {}).get('pubmed_id', 'null')\n",
    "        deposit_date = json_data['rcsb_accession_info']['deposit_date'].split('T')[0]\n",
    "        model_count = json_data['rcsb_entry_info']['deposited_model_count']\n",
    "        molecular_weight = json_data['rcsb_entry_info']['molecular_weight']\n",
    "        polymer_type = json_data['rcsb_entry_info']['selected_polymer_entity_types']\n",
    "        modeled_residues = json_data['rcsb_entry_info']['deposited_modeled_polymer_monomer_count']\n",
    "        total_residues = json_data['rcsb_entry_info']['deposited_polymer_monomer_count']\n",
    "        coverage = int(modeled_residues / total_residues * 100)\n",
    "        return f'{pdb}\\t{pubmed_id}\\t{deposit_date}\\t{model_count}\\t{molecular_weight}\\t{polymer_type}\\t{modeled_residues}\\t{total_residues}\\t{coverage}\\n'\n",
    "    else:\n",
    "        return f'{pdb}\\tError fetching data\\n'\n",
    "    \n",
    "# Writing the header and data to a file\n",
    "with open(file_name, 'w') as f:\n",
    "    # Writing the header directly\n",
    "    f.write('PDB\\tPubmed_ID\\tDeposit_date\\tModel_count\\tMolecular_weight\\tPolymer_type\\tModeled_residues\\tTotal_residues\\tCoverage\\n')\n",
    "\n",
    "    for pdb in pdb_list:\n",
    "        if pdb not in already_processed:\n",
    "            json_data = fetch_pdb_data(pdb)\n",
    "            info_line = extract_info(json_data, pdb)\n",
    "            f.write(info_line)\n",
    "            \n",
    "        else:\n",
    "            pass\n",
    "            print(f'{pdb} skipped')\n",
    "    \n"
   ]
  }
 ],
 "metadata": {
  "kernelspec": {
   "display_name": "Python 3",
   "language": "python",
   "name": "python3"
  },
  "language_info": {
   "codemirror_mode": {
    "name": "ipython",
    "version": 3
   },
   "file_extension": ".py",
   "mimetype": "text/x-python",
   "name": "python",
   "nbconvert_exporter": "python",
   "pygments_lexer": "ipython3",
   "version": "3.9.2"
  }
 },
 "nbformat": 4,
 "nbformat_minor": 2
}
