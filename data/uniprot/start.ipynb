{
 "cells": [
  {
   "cell_type": "code",
   "execution_count": 1,
   "metadata": {},
   "outputs": [
    {
     "name": "stdout",
     "output_type": "stream",
     "text": [
      "[1310613    4839 1344414 ...  766183 1041526 1041527]\n"
     ]
    }
   ],
   "source": [
    "import pandas as pd\n",
    "\n",
    "#Check readability\n",
    "file_path = 'uniprotkb_NOT_cc_scl_term_SL_0162_AND_r_2024_02_08.tsv'\n",
    "df = pd.read_csv(file_path, sep='\\t')\n",
    "\n",
    "#get a list of the possible values in the column Organism (ID)\n",
    "print(df['Organism (ID)'].unique().shape[0])\n"
   ]
  },
  {
   "cell_type": "code",
   "execution_count": 5,
   "metadata": {},
   "outputs": [
    {
     "name": "stdout",
     "output_type": "stream",
     "text": [
      "Total count: 453600\n",
      "Proteins with PDB: 26253\n",
      "Proteins with PDB and less than 50kDa: 18697\n"
     ]
    }
   ],
   "source": [
    "#Counts total number of proteins\n",
    "df = pd.read_csv(file_path, sep='\\t')\n",
    "print('Total count:',df.shape[0])\n",
    "\n",
    "#Filters the proteins that have something in the 'PDB' column (non NaN)\n",
    "df = df[df['PDB'].notna()]\n",
    "print('Proteins with PDB:',df.shape[0])\n",
    "\n",
    "#Filters protein between 1000 and 50000 of mass\n",
    "df = df[(df['Mass'] > 1000) & (df['Mass'] < 50000)]\n",
    "print('Proteins with PDB and less than 50kDa:',df.shape[0])"
   ]
  },
  {
   "cell_type": "code",
   "execution_count": 6,
   "metadata": {},
   "outputs": [
    {
     "data": {
      "image/png": "[encoded data removed]",
      "text/plain": [
       "<Figure size 640x480 with 1 Axes>"
      ]
     },
     "metadata": {},
     "output_type": "display_data"
    }
   ],
   "source": [
    "# Make a histogram considering the 'Mass' column with y axis in logscale\n",
    "import matplotlib.pyplot as plt\n",
    "\n",
    "df = pd.read_csv(file_path, sep='\\t')\n",
    "df = df[df['PDB'].notna()]\n",
    "df['Mass'] = df['Mass']/1000\n",
    "df['Mass'].plot(kind='hist', bins=100, logy=True, title='Protein mass distribution', xlim=(0,1000))\n",
    "plt.xlabel('Mass (kDa)')\n",
    "plt.ylabel('Frequency')\n",
    "plt.show()\n"
   ]
  },
  {
   "cell_type": "code",
   "execution_count": 7,
   "metadata": {},
   "outputs": [
    {
     "name": "stdout",
     "output_type": "stream",
     "text": [
      "        Entry     Mass                                                PDB\n",
      "550    A2ASS6  3906488                                              6YJ0;\n",
      "28240  Q8WZ42  3816030  1BPV;1G1C;1NCT;1NCU;1TIT;1TIU;1TKI;1TNM;1TNN;1...\n",
      "2744   O01761   894252                                              1FHO;\n",
      "19760  Q23551   788953                               1KOA;1WIT;1WIU;3UTO;\n",
      "9913   P20929   772914                                    1ARK;1NEB;6Y17;\n",
      "42583  O30409   724033           1DNY;2GDW;2GDX;2GDY;2JGP;2K2Q;2MD9;4MRT;\n",
      "18200  Q09666   629101                                    4DRW;4FTG;4HRG;\n",
      "26513  Q8IVF2   616629                                              4CN0;\n",
      "3135   O14686   593389                               3UVK;4ERQ;4Z4P;6O7G;\n",
      "16752  P98088   585570                               5AJN;5AJO;5AJP;8OV0;\n"
     ]
    }
   ],
   "source": [
    "#prints the ten rows with more 'Mass'\n",
    "df = pd.read_csv(file_path, sep='\\t')\n",
    "df = df[df['PDB'].notna()]\n",
    "df = df.sort_values(by='Mass', ascending\n",
    "    =False)\n",
    "print(df[['Entry', 'Mass','PDB']].head(10))"
   ]
  },
  {
   "cell_type": "code",
   "execution_count": 3,
   "metadata": {},
   "outputs": [
    {
     "name": "stdout",
     "output_type": "stream",
     "text": [
      "Total number of PDBs: 219337\n"
     ]
    }
   ],
   "source": [
    "import pandas as pd\n",
    "file_path = 'uniprotkb_NOT_cc_scl_term_SL_0162_AND_r_2024_02_08.tsv'\n",
    "\n",
    "#merge all the entries of the column 'PDB' into comma separated string\n",
    "df = pd.read_csv(file_path, sep='\\t')\n",
    "df = df[df['PDB'].notna()]\n",
    "print(df.shape[0])\n",
    "df['PDB'] = df['PDB'].str.strip(';')\n",
    "df['PDB'] = df['PDB'].str.replace(';',',')\n",
    "pdb_comma_separated = ','.join(df['PDB'])\n",
    "pdb_list = pdb_comma_separated.split(',')\n",
    "print('Total number of PDBs:',len(pdb_list))\n",
    "\n",
    "\n"
   ]
  },
  {
   "cell_type": "code",
   "execution_count": 9,
   "metadata": {},
   "outputs": [
    {
     "name": "stdout",
     "output_type": "stream",
     "text": [
      "PDB 7UWG was found\n",
      "PDB 7UXU was found\n",
      "PDB 8G83 was found\n",
      "PDB 4K35 was found\n",
      "PDB 4K3A was found\n",
      "PDB 5XBZ was found\n"
     ]
    },
    {
     "ename": "KeyError",
     "evalue": "'pubmed_id'",
     "output_type": "error",
     "traceback": [
      "\u001b[0;31m---------------------------------------------------------------------------\u001b[0m",
      "\u001b[0;31mKeyError\u001b[0m                                  Traceback (most recent call last)",
      "\u001b[1;32m/home/radossio/MDwMD/data/uniprot/start.ipynb Cell 6\u001b[0m line \u001b[0;36m1\n\u001b[1;32m     <a href='vscode-notebook-cell:/home/radossio/MDwMD/data/uniprot/start.ipynb#W5sZmlsZQ%3D%3D?line=14'>15</a>\u001b[0m \u001b[39m#get from the response the 'rcsb_accession_info.deposit_date' and print it\u001b[39;00m\n\u001b[1;32m     <a href='vscode-notebook-cell:/home/radossio/MDwMD/data/uniprot/start.ipynb#W5sZmlsZQ%3D%3D?line=15'>16</a>\u001b[0m response_json \u001b[39m=\u001b[39m response\u001b[39m.\u001b[39mjson()\n\u001b[0;32m---> <a href='vscode-notebook-cell:/home/radossio/MDwMD/data/uniprot/start.ipynb#W5sZmlsZQ%3D%3D?line=16'>17</a>\u001b[0m pubmed_id \u001b[39m=\u001b[39m response_json[\u001b[39m'\u001b[39;49m\u001b[39mrcsb_entry_container_identifiers\u001b[39;49m\u001b[39m'\u001b[39;49m][\u001b[39m'\u001b[39;49m\u001b[39mpubmed_id\u001b[39;49m\u001b[39m'\u001b[39;49m]\n\u001b[1;32m     <a href='vscode-notebook-cell:/home/radossio/MDwMD/data/uniprot/start.ipynb#W5sZmlsZQ%3D%3D?line=17'>18</a>\u001b[0m deposit_date \u001b[39m=\u001b[39m response_json[\u001b[39m'\u001b[39m\u001b[39mrcsb_accession_info\u001b[39m\u001b[39m'\u001b[39m][\u001b[39m'\u001b[39m\u001b[39mdeposit_date\u001b[39m\u001b[39m'\u001b[39m]\n\u001b[1;32m     <a href='vscode-notebook-cell:/home/radossio/MDwMD/data/uniprot/start.ipynb#W5sZmlsZQ%3D%3D?line=18'>19</a>\u001b[0m model_count \u001b[39m=\u001b[39m response_json[\u001b[39m'\u001b[39m\u001b[39mrcsb_entry_info\u001b[39m\u001b[39m'\u001b[39m][\u001b[39m'\u001b[39m\u001b[39mdeposited_model_count\u001b[39m\u001b[39m'\u001b[39m]\n",
      "\u001b[0;31mKeyError\u001b[0m: 'pubmed_id'"
     ]
    }
   ],
   "source": [
    "#For each pdb, make a GET request to the following URL: https://data.rcsb.org/rest/v1/core/entry/PDB\n",
    "import requests\n",
    "import json\n",
    "import datetime\n",
    "\n",
    "now = datetime.datetime.now()\n",
    "\n",
    "with open(f'pdb_info_{now.strftime(\"%Y-%m-%d_%H-%M-%S\")}.tsv', 'w') as f:\n",
    "    #write the header\n",
    "    f.write('PDB\\tPubmed_ID\\tDeposit_date\\tModel_count\\tMolecular_weight\\tPolymer_type\\tModeled_residues\\tTotal_residues\\n')\n",
    "\n",
    "    for pdb in pdb_list:\n",
    "        url = f'https://data.rcsb.org/rest/v1/core/entry/{pdb}'\n",
    "        response = requests.get(url)\n",
    "        if response.status_code == 200:\n",
    "            print(f'PDB {pdb} was found')\n",
    "        else:\n",
    "            print(f'PDB {pdb} was not found')\n",
    "\n",
    "        #get from the response the 'rcsb_accession_info.deposit_date' and print it\n",
    "        response_json = response.json()\n",
    "\n",
    "        try:\n",
    "            pubmed_id = response_json['rcsb_entry_container_identifiers']['pubmed_id']\n",
    "        except:\n",
    "            pubmed_id = 'N/A'\n",
    "\n",
    "        deposit_date = response_json['rcsb_accession_info']['deposit_date']\n",
    "        deposit_date = deposit_date.split('T')[0]        \n",
    "\n",
    "        model_count = response_json['rcsb_entry_info']['deposited_model_count']\n",
    "        molecular_weight = response_json['rcsb_entry_info']['molecular_weight']\n",
    "        polymer_type = response_json['rcsb_entry_info']['selected_polymer_entity_types']\n",
    "        modeled_residues = response_json['rcsb_entry_info']['deposited_modeled_polymer_monomer_count']\n",
    "        total_residues = response_json['rcsb_entry_info']['deposited_polymer_monomer_count']\n",
    "        coverage = int(modeled_residues/total_residues*100)\n",
    "        \n",
    "        #write information into a tab separated file\n",
    "        f.write(f'{pdb}\\t{pubmed_id}\\t{deposit_date}\\t{model_count}\\t{molecular_weight}\\t{polymer_type}\\t{modeled_residues}\\t{total_residues}\\t{coverage}\\n')\n",
    "\n"
   ]
  }
 ],
 "metadata": {
  "kernelspec": {
   "display_name": "Python 3",
   "language": "python",
   "name": "python3"
  },
  "language_info": {
   "codemirror_mode": {
    "name": "ipython",
    "version": 3
   },
   "file_extension": ".py",
   "mimetype": "text/x-python",
   "name": "python",
   "nbconvert_exporter": "python",
   "pygments_lexer": "ipython3",
   "version": "3.9.2"
  }
 },
 "nbformat": 4,
 "nbformat_minor": 2
}
